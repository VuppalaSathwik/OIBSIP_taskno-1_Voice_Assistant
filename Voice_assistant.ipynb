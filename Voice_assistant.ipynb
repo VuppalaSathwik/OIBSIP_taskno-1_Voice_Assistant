{
  "nbformat": 4,
  "nbformat_minor": 0,
  "metadata": {
    "colab": {
      "provenance": []
    },
    "kernelspec": {
      "name": "python3",
      "display_name": "Python 3"
    },
    "language_info": {
      "name": "python"
    }
  },
  "cells": [
    {
      "cell_type": "code",
      "execution_count": null,
      "metadata": {
        "id": "d695aeb3",
        "outputId": "21ff4e2e-e5a0-4c9c-9f1a-6c12bb0a98a9"
      },
      "outputs": [
        {
          "name": "stdout",
          "output_type": "stream",
          "text": [
            "Listening for commands...\n",
            "You said: what is the time today\n",
            "The current time is 18:13\n"
          ]
        }
      ],
      "source": [
        "import speech_recognition as sr\n",
        "import pyttsx3\n",
        "from datetime import datetime\n",
        "import webbrowser\n",
        "\n",
        "def greet():\n",
        "    return \"Hello! How can I assist you today?\"\n",
        "\n",
        "def get_time():\n",
        "    now = datetime.now()\n",
        "    current_time = now.strftime(\"%H:%M\")\n",
        "    return f\"The current time is {current_time}\"\n",
        "\n",
        "def get_date():\n",
        "    now = datetime.now()\n",
        "    current_date = now.strftime(\"%Y-%m-%d\")\n",
        "    return f\"Today's date is {current_date}\"\n",
        "\n",
        "def search_web(query):\n",
        "    search_url = f\"https://www.google.com/search?q={query}\"\n",
        "    webbrowser.open(search_url)\n",
        "\n",
        "def respond(text):\n",
        "    engine = pyttsx3.init()\n",
        "    engine.say(text)\n",
        "    engine.runAndWait()\n",
        "\n",
        "def main():\n",
        "    recognizer = sr.Recognizer()\n",
        "\n",
        "    with sr.Microphone() as source:\n",
        "        print(\"Listening for commands...\")\n",
        "        recognizer.adjust_for_ambient_noise(source)\n",
        "        audio = recognizer.listen(source)\n",
        "\n",
        "    try:\n",
        "        command = recognizer.recognize_google(audio).lower()\n",
        "        print(\"You said:\", command)\n",
        "\n",
        "        if \"hello\" in command:\n",
        "            response = greet()\n",
        "        elif \"time\" in command:\n",
        "            response = get_time()\n",
        "        elif \"date\" in command:\n",
        "            response = get_date()\n",
        "        elif \"search\" in command:\n",
        "            query = command.replace(\"search\", \"\").strip()\n",
        "            response = f\"Searching the web for {query}...\"\n",
        "            search_web(query)\n",
        "        else:\n",
        "            response = \"Sorry, I didn't understand that command.\"\n",
        "\n",
        "        print(response)\n",
        "        respond(response)\n",
        "\n",
        "    except sr.UnknownValueError:\n",
        "        print(\"Sorry, I couldn't understand the audio.\")\n",
        "    except sr.RequestError as e:\n",
        "        print(f\"Could not request results from Google Speech Recognition service; {e}\")\n",
        "\n",
        "if __name__ == \"__main__\":\n",
        "    main()"
      ]
    }
  ]
}